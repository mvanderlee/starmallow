{
 "cells": [
  {
   "cell_type": "markdown",
   "metadata": {},
   "source": [
    "# StarMallow Goals/examples"
   ]
  },
  {
   "cell_type": "markdown",
   "metadata": {},
   "source": [
    "## Detect Schema from marshmallow-dataclass\n",
    "\n",
    "By default, read from JSON body and return JSON body"
   ]
  },
  {
   "cell_type": "code",
   "execution_count": null,
   "metadata": {},
   "outputs": [],
   "source": [
    "import marshmallow.fields as mf\n",
    "from marshmallow_dataclass import dataclass as ma_dataclass\n",
    "from starmallow import APIRouter\n",
    "from starmallow.params import (\n",
    "  Header, \n",
    "  Body, \n",
    "  Query,\n",
    "  Path,\n",
    "  Cookie,\n",
    "  Form,\n",
    "  File,\n",
    ")\n",
    "\n",
    "@ma_dataclass\n",
    "class CreateRequest:\n",
    "  pass\n",
    "\n",
    "@ma_dataclass\n",
    "class CreateResponse:\n",
    "  pass\n",
    "\n",
    "\n",
    "router = APIRouter(prefix='/user', name='user')\n",
    "\n",
    "## Read from json body \n",
    "@router.post('/create', status_code=202)\n",
    "async def create_user(\n",
    "  create_request: CreateRequest,\n",
    "  create_request_json: CreateRequest = Body(None),\n",
    "  create_request_query: CreateRequest = Query(None),\n",
    "  create_request_path: CreateRequest = Path(None),\n",
    "  create_request_header: CreateRequest = Header(None),\n",
    "  create_request_cookie: CreateRequest = Cookie(None),\n",
    "  create_request_form: CreateRequest = Form(None),\n",
    "  create_request_file: CreateRequest = File(None),\n",
    "\n",
    "  # Custom schema\n",
    "  create_request_custom: CreateRequest = Body(None, model=CreateRequest.Schema),\n",
    "\n",
    "  # Allow usign marshmallow fields directly as well?\n",
    "  my_int: int = Body(None),\n",
    "  email: str = Body(None, schema=mf.Email())\n",
    ") -> CreateResponse:\n",
    "  pass\n"
   ]
  },
  {
   "cell_type": "markdown",
   "metadata": {},
   "source": [
    "## Playground"
   ]
  },
  {
   "cell_type": "code",
   "execution_count": 2,
   "metadata": {},
   "outputs": [],
   "source": [
    "from typing import Any, Optional, Union\n",
    "\n",
    "import marshmallow as ma\n",
    "import marshmallow.fields as mf\n",
    "\n",
    "\n",
    "class FieldInfo:\n",
    "\n",
    "    def __init__(\n",
    "        self,\n",
    "        default: Any,\n",
    "        *,\n",
    "        deprecated: Optional[bool] = None,\n",
    "        include_in_schema: bool = True,\n",
    "        model: Union[ma.Schema, mf.Field] = None,\n",
    "    ) -> None:\n",
    "        self.default = default\n",
    "        self.deprecated = deprecated\n",
    "        self.include_in_schema = include_in_schema\n",
    "        self.model = model\n",
    "\n",
    "\n",
    "class Path(FieldInfo):\n",
    "    pass\n",
    "\n",
    "\n",
    "class Query(FieldInfo):\n",
    "    pass\n",
    "\n",
    "\n",
    "class Header(FieldInfo):\n",
    "    pass\n",
    "\n",
    "\n",
    "class Cookie(FieldInfo):\n",
    "    pass\n",
    "\n",
    "\n",
    "class Body(FieldInfo):\n",
    "    pass\n",
    "\n",
    "\n",
    "class Form(FieldInfo):\n",
    "    pass\n",
    "\n",
    "\n",
    "class File(FieldInfo):\n",
    "    pass\n"
   ]
  },
  {
   "cell_type": "code",
   "execution_count": 15,
   "metadata": {},
   "outputs": [
    {
     "name": "stdout",
     "output_type": "stream",
     "text": [
      "FOO\n",
      "bar\n"
     ]
    }
   ],
   "source": [
    "\n",
    "from typing import Any, Callable, TypeVar, Generic, Optional, _SpecialForm\n",
    "\n",
    "import marshmallow.fields as mf\n",
    "from marshmallow_dataclass import dataclass as ma_dataclass\n",
    "\n",
    "@ma_dataclass\n",
    "class CreateRequest:\n",
    "  my_int2: int\n",
    "\n",
    "@ma_dataclass\n",
    "class CreateResponse:\n",
    "  pass\n",
    "\n",
    "\n",
    "    \n",
    "@ma_dataclass\n",
    "class Foobar:\n",
    "  foo: str\n",
    "  bar: str\n",
    "\n",
    "def test(foobar: Foobar) -> None:\n",
    "  print(foobar.foo)\n",
    "  print(foobar.bar)\n",
    "\n",
    "test(Foobar(foo='FOO', bar='bar'))\n",
    "\n",
    "\n",
    "async def create_user(\n",
    "  create_request: CreateRequest,\n",
    "  create_request_json: CreateRequest = Body(...),\n",
    "  create_request_query: CreateRequest = Query(...),\n",
    "  create_request_path: CreateRequest = Path(...),\n",
    "  create_request_header: CreateRequest = Header(...),\n",
    "  create_request_cookie: CreateRequest = Cookie(...),\n",
    "  create_request_form: CreateRequest = Form(...),\n",
    "  \n",
    "  # Custom schema\n",
    "  create_request_custom: CreateRequest = Body(..., model=CreateRequest.Schema),\n",
    "\n",
    "  # Allow usign marshmallow fields directly as well?\n",
    "  my_int: Optional[int] = Body(5),\n",
    "  email: str = Body(..., model=mf.Email()),\n",
    "\n",
    "  my_int2: int = Header(...),\n",
    "\n",
    "  optional: Optional[CreateRequest] = Body(None),\n",
    ") -> CreateResponse:\n",
    "  pass\n"
   ]
  },
  {
   "cell_type": "code",
   "execution_count": 18,
   "metadata": {},
   "outputs": [
    {
     "data": {
      "text/plain": [
       "<__main__.Body at 0x1ed665cc888>"
      ]
     },
     "execution_count": 18,
     "metadata": {},
     "output_type": "execute_result"
    }
   ],
   "source": [
    "import inspect\n",
    "\n",
    "parameters = dict(inspect.signature(create_user).parameters)\n",
    "\n",
    "parameters['create_request'].default\n",
    "parameters['create_request_json'].default\n"
   ]
  },
  {
   "cell_type": "code",
   "execution_count": 29,
   "metadata": {},
   "outputs": [],
   "source": [
    "import marshmallow as ma\n",
    "import marshmallow.fields as mf\n",
    "\n",
    "t = mf.Integer(required=True)\n",
    "\n",
    "try:\n",
    "  t.deserialize('1d', 'foobar', {'foobar': '1d'})\n",
    "except Exception as e:\n",
    "  ex = e"
   ]
  },
  {
   "cell_type": "code",
   "execution_count": null,
   "metadata": {},
   "outputs": [],
   "source": []
  },
  {
   "cell_type": "code",
   "execution_count": 30,
   "metadata": {},
   "outputs": [
    {
     "data": {
      "text/plain": [
       "{'messages': ['Not a valid integer.'],\n",
       " 'field_name': '_schema',\n",
       " 'data': None,\n",
       " 'valid_data': None,\n",
       " 'kwargs': {}}"
      ]
     },
     "execution_count": 30,
     "metadata": {},
     "output_type": "execute_result"
    }
   ],
   "source": [
    "ex.__dict__"
   ]
  },
  {
   "cell_type": "code",
   "execution_count": null,
   "metadata": {},
   "outputs": [],
   "source": [
    "# Validation response\n",
    "## FastAPI\n",
    "{\n",
    "    \"detail\": [\n",
    "        {\n",
    "            \"loc\": [\n",
    "                \"path\",\n",
    "                \"item_id\"\n",
    "            ],\n",
    "            \"msg\": \"value is not a valid integer\",\n",
    "            \"type\": \"type_error.integer\"\n",
    "        }\n",
    "    ],\n",
    "    \"error\": \"ValidationError\",\n",
    "    \"status_code\": 422\n",
    "}\n",
    "\n",
    "## Flask-Smorest\n",
    "{\n",
    "    \"code\": 422,\n",
    "    \"errors\": {\n",
    "        \"json\": {\n",
    "            \"columns\": [\n",
    "                \"Missing data for required field.\"\n",
    "            ],\n",
    "            \"name\": [\n",
    "                \"Missing data for required field.\"\n",
    "            ],\n",
    "            \"order_columns\": [\n",
    "                \"Missing data for required field.\"\n",
    "            ],\n",
    "            \"sql_query\": [\n",
    "                \"Missing data for required field.\"\n",
    "            ],\n",
    "            \"table_names\": [\n",
    "                \"Missing data for required field.\"\n",
    "            ]\n",
    "        }\n",
    "    },\n",
    "    \"status\": \"Unprocessable Entity\"\n",
    "}"
   ]
  },
  {
   "cell_type": "code",
   "execution_count": 32,
   "metadata": {},
   "outputs": [
    {
     "data": {
      "text/plain": [
       "{'b': 2, 'a': 'A'}"
      ]
     },
     "execution_count": 32,
     "metadata": {},
     "output_type": "execute_result"
    }
   ],
   "source": [
    "import marshmallow as ma\n",
    "import marshmallow.fields as mf\n",
    "from dataclasses import dataclass\n",
    "\n",
    "@dataclass\n",
    "class Foobar:\n",
    "  a: str\n",
    "  b: int\n",
    "\n",
    "class FoobarSchema(ma.Schema):\n",
    "  a = mf.String()\n",
    "  b = mf.Integer()\n",
    "\n",
    "\n",
    "f = Foobar('A', 2)\n",
    "FoobarSchema().dump(f)"
   ]
  },
  {
   "cell_type": "markdown",
   "metadata": {},
   "source": [
    "## Formdata request with multiple content-types"
   ]
  },
  {
   "cell_type": "code",
   "execution_count": null,
   "metadata": {},
   "outputs": [],
   "source": [
    "import http.client\n",
    "import mimetypes\n",
    "from codecs import encode\n",
    "\n",
    "conn = http.client.HTTPConnection(\"127.0.0.1\", 8000)\n",
    "dataList = []\n",
    "boundary = 'wL36Yn8afVp8Ag7AmP8qZ0SA4n1v9T'\n",
    "dataList.append(encode('--' + boundary))\n",
    "dataList.append(encode('Content-Disposition: form-data; name=foobar_json;'))\n",
    "\n",
    "dataList.append(encode('Content-Type: {}'.format('application/json')))\n",
    "dataList.append(encode(''))\n",
    "\n",
    "dataList.append(encode('{\"foo\": \"bar\"}'))\n",
    "dataList.append(encode('--' + boundary))\n",
    "dataList.append(encode('Content-Disposition: form-data; name=foobar;'))\n",
    "\n",
    "dataList.append(encode('Content-Type: {}'.format('text/plain')))\n",
    "dataList.append(encode(''))\n",
    "\n",
    "dataList.append(encode(\"foo\"))\n",
    "dataList.append(encode('--' + boundary))\n",
    "dataList.append(encode('Content-Disposition: form-data; name=file; filename={0}'.format('/C:/Users/maste/Downloads/new_user_credentials.csv')))\n",
    "\n",
    "fileType = mimetypes.guess_type('/C:/Users/maste/Downloads/new_user_credentials.csv')[0] or 'application/octet-stream'\n",
    "dataList.append(encode('Content-Type: {}'.format(fileType)))\n",
    "dataList.append(encode(''))\n",
    "\n",
    "with open('C:/Users/maste/Downloads/new_user_credentials.csv', 'rb') as f:\n",
    "  dataList.append(f.read())\n",
    "dataList.append(encode('--'+boundary+'--'))\n",
    "dataList.append(encode(''))\n",
    "body = b'\\r\\n'.join(dataList)\n",
    "payload = body\n",
    "headers = {\n",
    "   'Content-type': 'multipart/form-data; boundary={}'.format(boundary) \n",
    "}\n",
    "conn.request(\"POST\", \"/query/run\", payload, headers)\n",
    "res = conn.getresponse()\n",
    "data = res.read()\n",
    "print(data.decode(\"utf-8\"))"
   ]
  }
 ],
 "metadata": {
  "interpreter": {
   "hash": "f7ddab2c409f2639957015aff5e68e05e927823e1d836cfda5995cef4fd43b5c"
  },
  "kernelspec": {
   "display_name": "Python 3.7.9 ('.venv': venv)",
   "language": "python",
   "name": "python3"
  },
  "language_info": {
   "codemirror_mode": {
    "name": "ipython",
    "version": 3
   },
   "file_extension": ".py",
   "mimetype": "text/x-python",
   "name": "python",
   "nbconvert_exporter": "python",
   "pygments_lexer": "ipython3",
   "version": "3.7.9"
  },
  "orig_nbformat": 4
 },
 "nbformat": 4,
 "nbformat_minor": 2
}
